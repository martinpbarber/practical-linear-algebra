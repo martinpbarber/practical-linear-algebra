{
 "cells": [
  {
   "cell_type": "markdown",
   "metadata": {},
   "source": [
    "# Chapter 2: Vectors Part 1"
   ]
  },
  {
   "cell_type": "code",
   "execution_count": 1,
   "metadata": {},
   "outputs": [],
   "source": [
    "import numpy as np"
   ]
  },
  {
   "cell_type": "markdown",
   "metadata": {},
   "source": [
    "## Creating and Visualizing Vector in NumPy"
   ]
  },
  {
   "cell_type": "code",
   "execution_count": 2,
   "metadata": {},
   "outputs": [],
   "source": [
    "asList = [1,2,3]\n",
    "asArray = np.array([1,2,3]) # 1D array\n",
    "rowVec = np.array([ [1,2,3] ]) # Row vector\n",
    "colVec = np.array([ [1], [2], [3]]) # Column vector"
   ]
  },
  {
   "cell_type": "code",
   "execution_count": 3,
   "metadata": {},
   "outputs": [
    {
     "name": "stdout",
     "output_type": "stream",
     "text": [
      "asList:  (3,)\n",
      "asArray: (3,)\n",
      "rowVec:  (1, 3)\n",
      "colVec:  (3, 1)\n"
     ]
    }
   ],
   "source": [
    "print(f'asList:  {np.shape(asList)}') # List\n",
    "print(f'asArray: {asArray.shape}') # List\n",
    "print(f'rowVec:  {rowVec.shape}') # 1 row x 3 col vector\n",
    "print(f'colVec:  {colVec.shape}') # 3 row x 1 col vector"
   ]
  },
  {
   "cell_type": "markdown",
   "metadata": {},
   "source": [
    "## Operations on Vectors"
   ]
  },
  {
   "cell_type": "markdown",
   "metadata": {},
   "source": [
    "### Adding Vectors"
   ]
  },
  {
   "cell_type": "code",
   "execution_count": 11,
   "metadata": {},
   "outputs": [
    {
     "ename": "ValueError",
     "evalue": "operands could not be broadcast together with shapes (4,) (3,) ",
     "output_type": "error",
     "traceback": [
      "\u001b[0;31m---------------------------------------------------------------------------\u001b[0m",
      "\u001b[0;31mValueError\u001b[0m                                Traceback (most recent call last)",
      "Cell \u001b[0;32mIn[11], line 6\u001b[0m\n\u001b[1;32m      3\u001b[0m u \u001b[38;5;241m=\u001b[39m np\u001b[38;5;241m.\u001b[39marray([\u001b[38;5;241m0\u001b[39m,\u001b[38;5;241m3\u001b[39m,\u001b[38;5;241m6\u001b[39m,\u001b[38;5;241m9\u001b[39m])\n\u001b[1;32m      5\u001b[0m vPlusW \u001b[38;5;241m=\u001b[39m v \u001b[38;5;241m+\u001b[39m w\n\u001b[0;32m----> 6\u001b[0m uPlusW \u001b[38;5;241m=\u001b[39m \u001b[43mu\u001b[49m\u001b[43m \u001b[49m\u001b[38;5;241;43m+\u001b[39;49m\u001b[43m \u001b[49m\u001b[43mw\u001b[49m \u001b[38;5;66;03m# Error mismatched dimensions\u001b[39;00m\n",
      "\u001b[0;31mValueError\u001b[0m: operands could not be broadcast together with shapes (4,) (3,) "
     ]
    }
   ],
   "source": [
    "v = np.array([4,5,6])\n",
    "w = np.array([10,20,30])\n",
    "u = np.array([0,3,6,9])\n",
    "\n",
    "vPlusW = v + w\n",
    "uPlusW = u + w # Error mismatched dimensions"
   ]
  },
  {
   "cell_type": "code",
   "execution_count": 12,
   "metadata": {},
   "outputs": [
    {
     "name": "stdout",
     "output_type": "stream",
     "text": [
      "v.shape: (1, 3)\n",
      "w.shape: (3, 1)\n",
      "[[14 15 16]\n",
      " [24 25 26]\n",
      " [34 35 36]]\n"
     ]
    }
   ],
   "source": [
    "v = np.array([ [4,5,6] ]) # row vector\n",
    "w = np.array([ [10,20,30] ]).T # column vector\n",
    "\n",
    "print(f'v.shape: {v.shape}')\n",
    "print(f'w.shape: {w.shape}')\n",
    "print(v + w) # not expected results, v and w are broadcast, i.e expanded to matching shape"
   ]
  },
  {
   "cell_type": "markdown",
   "metadata": {},
   "source": [
    "### Geometry of Vector Addition and Subtraction"
   ]
  },
  {
   "cell_type": "markdown",
   "metadata": {},
   "source": [
    "### Scalar-Vector Multiplication"
   ]
  },
  {
   "cell_type": "code",
   "execution_count": 14,
   "metadata": {},
   "outputs": [
    {
     "name": "stdout",
     "output_type": "stream",
     "text": [
      "[2, 3, 4, 2, 3, 4]\n",
      "[4 6 8]\n"
     ]
    }
   ],
   "source": [
    "s = 2\n",
    "a = [2,3,4] # list\n",
    "b = np.array(a) # np array\n",
    "\n",
    "print(s * a) # repeats list s times\n",
    "print(s * b) # performs scalar-vector multiplication"
   ]
  },
  {
   "cell_type": "markdown",
   "metadata": {},
   "source": [
    "### Scalar-Vector Addition"
   ]
  },
  {
   "cell_type": "code",
   "execution_count": 16,
   "metadata": {},
   "outputs": [
    {
     "name": "stdout",
     "output_type": "stream",
     "text": [
      "[5 8]\n"
     ]
    }
   ],
   "source": [
    "s = 2\n",
    "v = np.array([3,6])\n",
    "\n",
    "print(s + v) # not defined in linear algebra, but works with numpy"
   ]
  },
  {
   "cell_type": "code",
   "execution_count": null,
   "metadata": {},
   "outputs": [],
   "source": []
  }
 ],
 "metadata": {
  "kernelspec": {
   "display_name": "Python 3 (ipykernel)",
   "language": "python",
   "name": "python3"
  },
  "language_info": {
   "codemirror_mode": {
    "name": "ipython",
    "version": 3
   },
   "file_extension": ".py",
   "mimetype": "text/x-python",
   "name": "python",
   "nbconvert_exporter": "python",
   "pygments_lexer": "ipython3",
   "version": "3.9.13"
  }
 },
 "nbformat": 4,
 "nbformat_minor": 2
}
