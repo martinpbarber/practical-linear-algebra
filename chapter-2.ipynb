{
 "cells": [
  {
   "cell_type": "markdown",
   "metadata": {},
   "source": [
    "# Chapter 2: Vectors Part 1"
   ]
  },
  {
   "cell_type": "code",
   "execution_count": 1,
   "metadata": {},
   "outputs": [],
   "source": [
    "import numpy as np"
   ]
  },
  {
   "cell_type": "markdown",
   "metadata": {},
   "source": [
    "## Creating and Visualizing Vector in NumPy"
   ]
  },
  {
   "cell_type": "code",
   "execution_count": 2,
   "metadata": {},
   "outputs": [],
   "source": [
    "asList = [1,2,3]\n",
    "asArray = np.array([1,2,3]) # 1D array\n",
    "rowVec = np.array([ [1,2,3] ]) # Row vector\n",
    "colVec = np.array([ [1], [2], [3]]) # Column vector"
   ]
  },
  {
   "cell_type": "code",
   "execution_count": 3,
   "metadata": {},
   "outputs": [
    {
     "name": "stdout",
     "output_type": "stream",
     "text": [
      "asList:  (3,)\n",
      "asArray: (3,)\n",
      "rowVec:  (1, 3)\n",
      "colVec:  (3, 1)\n"
     ]
    }
   ],
   "source": [
    "print(f'asList:  {np.shape(asList)}') # List\n",
    "print(f'asArray: {asArray.shape}') # List\n",
    "print(f'rowVec:  {rowVec.shape}') # 1 row x 3 col vector\n",
    "print(f'colVec:  {colVec.shape}') # 3 row x 1 col vector"
   ]
  },
  {
   "cell_type": "markdown",
   "metadata": {},
   "source": [
    "## Operations on Vectors"
   ]
  },
  {
   "cell_type": "markdown",
   "metadata": {},
   "source": [
    "### Adding Vectors"
   ]
  },
  {
   "cell_type": "code",
   "execution_count": 4,
   "metadata": {},
   "outputs": [
    {
     "name": "stdout",
     "output_type": "stream",
     "text": [
      "operands could not be broadcast together with shapes (4,) (3,) \n"
     ]
    }
   ],
   "source": [
    "v = np.array([4,5,6])\n",
    "w = np.array([10,20,30])\n",
    "u = np.array([0,3,6,9])\n",
    "\n",
    "vPlusW = v + w\n",
    "try:\n",
    "    uPlusW = u + w # Error mismatched dimensions\n",
    "except ValueError as err:\n",
    "    print(err)"
   ]
  },
  {
   "cell_type": "code",
   "execution_count": 5,
   "metadata": {},
   "outputs": [
    {
     "name": "stdout",
     "output_type": "stream",
     "text": [
      "v.shape: (1, 3)\n",
      "w.shape: (3, 1)\n",
      "[[14 15 16]\n",
      " [24 25 26]\n",
      " [34 35 36]]\n"
     ]
    }
   ],
   "source": [
    "v = np.array([ [4,5,6] ]) # row vector\n",
    "w = np.array([ [10,20,30] ]).T # column vector\n",
    "\n",
    "print(f'v.shape: {v.shape}')\n",
    "print(f'w.shape: {w.shape}')\n",
    "print(v + w) # not expected results, v and w are broadcast, i.e expanded to matching shape"
   ]
  },
  {
   "cell_type": "markdown",
   "metadata": {},
   "source": [
    "### Geometry of Vector Addition and Subtraction"
   ]
  },
  {
   "cell_type": "markdown",
   "metadata": {},
   "source": [
    "### Scalar-Vector Multiplication"
   ]
  },
  {
   "cell_type": "code",
   "execution_count": 6,
   "metadata": {},
   "outputs": [
    {
     "name": "stdout",
     "output_type": "stream",
     "text": [
      "[2, 3, 4, 2, 3, 4]\n",
      "[4 6 8]\n"
     ]
    }
   ],
   "source": [
    "s = 2\n",
    "a = [2,3,4] # list\n",
    "b = np.array(a) # np array\n",
    "\n",
    "print(s * a) # repeats list s times\n",
    "print(s * b) # performs scalar-vector multiplication"
   ]
  },
  {
   "cell_type": "markdown",
   "metadata": {},
   "source": [
    "### Scalar-Vector Addition"
   ]
  },
  {
   "cell_type": "code",
   "execution_count": 7,
   "metadata": {},
   "outputs": [
    {
     "name": "stdout",
     "output_type": "stream",
     "text": [
      "[5 8]\n"
     ]
    }
   ],
   "source": [
    "s = 2\n",
    "v = np.array([3,6])\n",
    "\n",
    "print(s + v) # not defined in linear algebra, but works with numpy"
   ]
  },
  {
   "cell_type": "markdown",
   "metadata": {},
   "source": [
    "### Geometry of Scalar-Vector Multiplication"
   ]
  },
  {
   "cell_type": "code",
   "execution_count": null,
   "metadata": {},
   "outputs": [],
   "source": []
  },
  {
   "cell_type": "markdown",
   "metadata": {},
   "source": [
    "### Transpose"
   ]
  },
  {
   "cell_type": "code",
   "execution_count": 8,
   "metadata": {},
   "outputs": [
    {
     "name": "stdout",
     "output_type": "stream",
     "text": [
      "v: shape: (1, 3)\n",
      "[[1 2 3]]\n",
      "t: shape: (3, 1)\n",
      "[[1]\n",
      " [2]\n",
      " [3]]\n"
     ]
    }
   ],
   "source": [
    "v = np.array([ [1,2,3] ])\n",
    "t = v.T\n",
    "\n",
    "print(f'v: shape: {v.shape}\\n{v}')\n",
    "print(f't: shape: {t.shape}\\n{t}')"
   ]
  },
  {
   "cell_type": "markdown",
   "metadata": {},
   "source": [
    "### Vector Broadcasting in Python"
   ]
  },
  {
   "cell_type": "code",
   "execution_count": 9,
   "metadata": {},
   "outputs": [
    {
     "name": "stdout",
     "output_type": "stream",
     "text": [
      "v.shape: (3, 1)\n",
      "w.shape: (1, 2)\n",
      "[[11 21]\n",
      " [12 22]\n",
      " [13 23]]\n"
     ]
    }
   ],
   "source": [
    "v = np.array([ [1,2,3] ]).T # col vector\n",
    "w = np.array([ [10,20] ])   # row vector\n",
    "\n",
    "print(f'v.shape: {v.shape}')\n",
    "print(f'w.shape: {w.shape}')\n",
    "print(v + w) # addition with broadcasting"
   ]
  },
  {
   "cell_type": "markdown",
   "metadata": {},
   "source": [
    "## Vector Magnitude and Unit Vectors "
   ]
  },
  {
   "cell_type": "code",
   "execution_count": 10,
   "metadata": {},
   "outputs": [
    {
     "name": "stdout",
     "output_type": "stream",
     "text": [
      "[[1 2 3 7 8 9]]\n",
      "1\n",
      "14.422205101855956\n"
     ]
    }
   ],
   "source": [
    "v = np.array([ [1,2,3,7,8,9] ])\n",
    "print(v)\n",
    "\n",
    "v_dim = len(v) # number of dimensions of the array\n",
    "print(v_dim)\n",
    "\n",
    "v_mag = np.linalg.norm(v) # magnitude, i.e. length or norm\n",
    "print(v_mag)"
   ]
  },
  {
   "cell_type": "markdown",
   "metadata": {},
   "source": [
    "## Vector Dot Product (Inner Product)"
   ]
  },
  {
   "cell_type": "code",
   "execution_count": 11,
   "metadata": {},
   "outputs": [
    {
     "name": "stdout",
     "output_type": "stream",
     "text": [
      "shapes (1,4) and (1,4) not aligned: 4 (dim 1) != 1 (dim 0)\n",
      "[[70]]\n",
      "70\n",
      "70\n",
      "700\n"
     ]
    }
   ],
   "source": [
    "v = np.array([ [1,2,3,4] ])\n",
    "w = np.array([ [5,6,7,8] ])\n",
    "\n",
    "try:\n",
    "    np.dot(v, w) # not properly aligned, need row and column vector\n",
    "except ValueError as err:\n",
    "    print(err)\n",
    "\n",
    "dot = np.dot(v, w.T) # first must be row, second must be column because dot is matrix multiplication\n",
    "print(dot)        # matrix form\n",
    "print(dot.item()) # scalar form\n",
    "\n",
    "dot = np.vdot(v, w) # vdot can also be used, but only for vectors \n",
    "print(dot)\n",
    "\n",
    "s = 10\n",
    "scaled_dot = np.vdot(s * v, w) # scaling a vector, scales the dot product by the same amount\n",
    "print(scaled_dot)"
   ]
  },
  {
   "cell_type": "markdown",
   "metadata": {},
   "source": [
    "### Dot Product is Distributive"
   ]
  },
  {
   "cell_type": "code",
   "execution_count": 12,
   "metadata": {},
   "outputs": [
    {
     "name": "stdout",
     "output_type": "stream",
     "text": [
      "110 110 True\n"
     ]
    }
   ],
   "source": [
    "# NOTE: these are arrays, not vectors, so transposing is not required when using dot below\n",
    "a = np.array([ 0, 1, 2 ])\n",
    "b = np.array([ 3, 5, 8 ])\n",
    "c = np.array([ 13, 21, 34 ])\n",
    "\n",
    "# dot product is distributive, a(b+c) == ab + ac\n",
    "result_1 = np.dot(a, b+c)\n",
    "result_2 = np.dot(a, b) + np.dot(a, c)\n",
    "\n",
    "print(result_1, result_2, result_1 == result_2)"
   ]
  },
  {
   "cell_type": "markdown",
   "metadata": {},
   "source": [
    "### Geometry of the Dot Product"
   ]
  },
  {
   "cell_type": "code",
   "execution_count": null,
   "metadata": {},
   "outputs": [],
   "source": []
  },
  {
   "cell_type": "markdown",
   "metadata": {},
   "source": [
    "## Other Vector Multiplications"
   ]
  },
  {
   "cell_type": "markdown",
   "metadata": {},
   "source": [
    "### Hadamard Multiplication"
   ]
  },
  {
   "cell_type": "code",
   "execution_count": 13,
   "metadata": {},
   "outputs": [
    {
     "name": "stdout",
     "output_type": "stream",
     "text": [
      "[ 5.  0.  4. -2.]\n"
     ]
    }
   ],
   "source": [
    "a = np.array([ 5, 4, 8, 2 ])\n",
    "b = np.array([ 1, 0, .5, -1])\n",
    "\n",
    "print(a * b) # element-wise multiplication"
   ]
  },
  {
   "cell_type": "markdown",
   "metadata": {},
   "source": [
    "### Outer Product"
   ]
  },
  {
   "cell_type": "code",
   "execution_count": 25,
   "metadata": {},
   "outputs": [
    {
     "name": "stdout",
     "output_type": "stream",
     "text": [
      "(3, 1)\n",
      "(2, 1)\n",
      "[[10 20]\n",
      " [20 40]\n",
      " [30 60]]\n",
      "[[10 20]\n",
      " [20 40]\n",
      " [30 60]]\n",
      "shapes (3,1) and (2,1) not aligned: 1 (dim 1) != 2 (dim 0)\n",
      "shapes (1,3) and (2,1) not aligned: 3 (dim 1) != 2 (dim 0)\n"
     ]
    }
   ],
   "source": [
    "v = np.array([[1],[2],[3]]) # column vector\n",
    "w = np.array([[10],[20]])   # column vector\n",
    "\n",
    "print(v.shape)\n",
    "print(w.shape)\n",
    "\n",
    "print(np.outer(v, w)) # outer product\n",
    "\n",
    "print(np.dot(v, w.T)) # outer product\n",
    "\n",
    "try:\n",
    "    print(np.dot(v, w))\n",
    "except ValueError as err:\n",
    "    print(err) # not aligned\n",
    "\n",
    "try:\n",
    "    print(np.dot(v.T, w)) # dot product\n",
    "except ValueError as err:\n",
    "    print(err) # not aligned\n"
   ]
  },
  {
   "cell_type": "markdown",
   "metadata": {},
   "source": [
    "## Orthongonal Vector Decomposition"
   ]
  },
  {
   "cell_type": "code",
   "execution_count": null,
   "metadata": {},
   "outputs": [],
   "source": []
  }
 ],
 "metadata": {
  "kernelspec": {
   "display_name": "Python 3 (ipykernel)",
   "language": "python",
   "name": "python3"
  },
  "language_info": {
   "codemirror_mode": {
    "name": "ipython",
    "version": 3
   },
   "file_extension": ".py",
   "mimetype": "text/x-python",
   "name": "python",
   "nbconvert_exporter": "python",
   "pygments_lexer": "ipython3",
   "version": "3.10.6"
  }
 },
 "nbformat": 4,
 "nbformat_minor": 2
}
